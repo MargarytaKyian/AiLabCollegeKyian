{
  "nbformat": 4,
  "nbformat_minor": 0,
  "metadata": {
    "colab": {
      "provenance": [],
      "authorship_tag": "ABX9TyMl65oJXqZKM/8Frxh5Qs+P",
      "include_colab_link": true
    },
    "kernelspec": {
      "name": "python3",
      "display_name": "Python 3"
    },
    "language_info": {
      "name": "python"
    }
  },
  "cells": [
    {
      "cell_type": "markdown",
      "metadata": {
        "id": "view-in-github",
        "colab_type": "text"
      },
      "source": [
        "<a href=\"https://colab.research.google.com/github/MargarytaKyian/AiLabCollegeKyian/blob/main/LabAI3_4Kyian.ipynb\" target=\"_parent\"><img src=\"https://colab.research.google.com/assets/colab-badge.svg\" alt=\"Open In Colab\"/></a>"
      ]
    },
    {
      "cell_type": "code",
      "source": [
        "# Лаб.№3-4 ШІ. Киян М. ІПЗ-407\n",
        "import numpy as np\n",
        "import matplotlib.pyplot as plt\n",
        "from sklearn import linear_model\n",
        "from matplotlib.colors import ListedColormap\n",
        "\n",
        "# Визначення зразка вхідних даних (X) та їх міток (y)\n",
        "X = np.array([[3.1, 7.2], [4, 6.7], [2.9, 8], [5.1, 4.5],\n",
        "              [6, 5], [5.6, 5], [3.3, 0.4],\n",
        "              [3.9, 0.9], [2.8, 1],\n",
        "              [0.5, 3.4], [1, 4], [0.6, 4.9]])\n",
        "y = np.array([0, 0, 0, 1, 1, 1, 2, 2, 2, 3, 3, 3])  # Визначення класів\n",
        "\n",
        "# Створення логістичного класифікатора\n",
        "classifier = linear_model.LogisticRegression(solver='liblinear', C=1)\n",
        "\n",
        "# Тренування класифікатора на вхідних даних\n",
        "classifier.fit(X, y)\n",
        "\n",
        "# Визначення меж візуалізації на основі вхідних даних\n",
        "x_min, x_max = X[:, 0].min() - 1, X[:, 0].max() + 1\n",
        "y_min, y_max = X[:, 1].min() - 1, X[:, 1].max() + 1\n",
        "\n",
        "# Створюємо сітку для графіку\n",
        "xx, yy = np.meshgrid(np.arange(x_min, x_max, 0.1), np.arange(y_min, y_max, 0.1))\n",
        "\n",
        "# Прогнозування класів на основі сітки координат\n",
        "Z = classifier.predict(np.c_[xx.ravel(), yy.ravel()])\n",
        "Z = Z.reshape(xx.shape)\n",
        "\n",
        "# Визначення кольорових палітр для візуалізації\n",
        "cmap_light = ListedColormap(['#FFAAAA', '#AAFFAA', '#AAAAFF', '#FFFFAA'])\n",
        "cmap_bold = ['#FF0000', '#00FF00', '#0000FF', '#FFFF00']\n",
        "\n",
        "# Візуалізація прогнозованих класів\n",
        "plt.contourf(xx, yy, Z, cmap=cmap_light)\n",
        "\n",
        "# Візуалізація точок даних\n",
        "for idx, color in enumerate(cmap_bold):\n",
        "    plt.scatter(X[y == idx, 0], X[y == idx, 1],\n",
        "                c=color, label=f\"Клас {idx}\", edgecolor='k', s=50)\n",
        "\n",
        "# Додавання заголовка та підписів до осей\n",
        "plt.title(\"Класифікація логістичною регресією\")\n",
        "plt.xlabel(\"Ознака 1\")\n",
        "plt.ylabel(\"Ознака 2\")\n",
        "plt.legend()  # Відображення легенди\n",
        "plt.show()  # Показати графік\n"
      ],
      "metadata": {
        "id": "K2w2SQL0ZLWP"
      },
      "execution_count": null,
      "outputs": []
    }
  ]
}