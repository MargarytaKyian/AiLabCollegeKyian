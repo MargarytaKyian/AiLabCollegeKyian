{
  "nbformat": 4,
  "nbformat_minor": 0,
  "metadata": {
    "colab": {
      "provenance": [],
      "authorship_tag": "ABX9TyP2fZUHggeE1XP1FW2AIJI9",
      "include_colab_link": true
    },
    "kernelspec": {
      "name": "python3",
      "display_name": "Python 3"
    },
    "language_info": {
      "name": "python"
    }
  },
  "cells": [
    {
      "cell_type": "markdown",
      "metadata": {
        "id": "view-in-github",
        "colab_type": "text"
      },
      "source": [
        "<a href=\"https://colab.research.google.com/github/MargarytaKyian/AiLabCollegeKyian/blob/main/LabAI3_4Kyian.ipynb\" target=\"_parent\"><img src=\"https://colab.research.google.com/assets/colab-badge.svg\" alt=\"Open In Colab\"/></a>"
      ]
    },
    {
      "cell_type": "code",
      "execution_count": 9,
      "metadata": {
        "id": "K4v1lfaO6-IX",
        "colab": {
          "base_uri": "https://localhost:8080/"
        },
        "outputId": "c5acc173-b911-4137-8ca8-2fc732a90f98"
      },
      "outputs": [
        {
          "output_type": "stream",
          "name": "stdout",
          "text": [
            "\n",
            " Binarized data:\n",
            " [[1. 1. 0.]\n",
            " [0. 1. 1.]\n",
            " [0. 1. 0.]\n",
            " [1. 0. 0.]]\n",
            "\n",
            "BEFORE: \n",
            "Mean = [ 0.925  6.05  -1.025]\n",
            "Std deviation = [3.50169602 3.45723878 3.9047247 ]\n",
            "\n",
            "AFTER: \n",
            "Mean = [0.00000000e+00 1.11022302e-16 2.77555756e-17]\n",
            "Std deviation = [1. 1. 1.]\n",
            "\n",
            "Мin max scaled data:\n",
            " [[1.         1.         0.27659574]\n",
            " [0.         0.31764706 1.        ]\n",
            " [0.08974359 0.87058824 0.        ]\n",
            " [0.87179487 0.         0.88297872]]\n",
            "\n",
            "l1 normalized data:\n",
            " [[ 0.26775956  0.54098361 -0.19125683]\n",
            " [-0.2815534   0.39805825  0.32038835]\n",
            " [-0.12865497  0.51461988 -0.35672515]\n",
            " [ 0.52        0.18666667  0.29333333]]\n",
            "\n",
            "l2 normalized data:\n",
            " [[ 0.42286972  0.85436943 -0.3020498 ]\n",
            " [-0.4825966   0.68229174  0.54916164]\n",
            " [-0.20125974  0.80503895 -0.55803836]\n",
            " [ 0.83129388  0.29841319  0.46893501]]\n"
          ]
        }
      ],
      "source": [
        "# Лаб.№3-4 ШІ. Киян М. ІПЗ-407\n",
        "import numpy as np\n",
        "from sklearn import preprocessing\n",
        "\n",
        "input_data = np.array([[4.9, 9.9, -3.5],\n",
        "[-2.9, 4.1, 3.3],\n",
        "[-2.2, 8.8, -6.1],\n",
        "[3.9, 1.4, 2.2]])\n",
        "\n",
        "# Бінаризація даних\n",
        "data_binarized = preprocessing.Binarizer(threshold=2.2).transform(input_data)\n",
        "print(\"\\n Binarized data:\\n\", data_binarized)\n",
        "\n",
        "# Виведення середнього значення та стандартного відхилення\n",
        "print(\"\\nBEFORE: \")\n",
        "print(\"Mean =\", input_data.mean(axis=0))\n",
        "print(\"Std deviation =\", input_data.std(axis=0))\n",
        "\n",
        "# Виключення середнього\n",
        "data_scaled = preprocessing.scale(input_data)\n",
        "print(\"\\nAFTER: \")\n",
        "print(\"Mean =\", data_scaled.mean(axis=0))\n",
        "print(\"Std deviation =\", data_scaled.std(axis=0))\n",
        "\n",
        "# Масштабування MinМax\n",
        "data_scaler_minmax = preprocessing.MinMaxScaler(feature_range=(0, 1))\n",
        "data_scaled_minmax = data_scaler_minmax.fit_transform(input_data)\n",
        "print(\"\\nМin max scaled data:\\n\", data_scaled_minmax)\n",
        "\n",
        "# Нормалізація даних\n",
        "data_normalized_l1 = preprocessing.normalize(input_data, norm='l1')\n",
        "data_normalized_l2 = preprocessing.normalize(input_data, norm='l2')\n",
        "print(\"\\nl1 normalized data:\\n\", data_normalized_l1)\n",
        "print(\"\\nl2 normalized data:\\n\", data_normalized_l2)"
      ]
    }
  ]
}