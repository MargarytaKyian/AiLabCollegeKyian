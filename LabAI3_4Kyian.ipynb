{
  "nbformat": 4,
  "nbformat_minor": 0,
  "metadata": {
    "colab": {
      "provenance": [],
      "authorship_tag": "ABX9TyOJ/JqvmYcv7cdq2t7dwA1e",
      "include_colab_link": true
    },
    "kernelspec": {
      "name": "python3",
      "display_name": "Python 3"
    },
    "language_info": {
      "name": "python"
    }
  },
  "cells": [
    {
      "cell_type": "markdown",
      "metadata": {
        "id": "view-in-github",
        "colab_type": "text"
      },
      "source": [
        "<a href=\"https://colab.research.google.com/github/MargarytaKyian/AiLabCollegeKyian/blob/main/LabAI3_4Kyian.ipynb\" target=\"_parent\"><img src=\"https://colab.research.google.com/assets/colab-badge.svg\" alt=\"Open In Colab\"/></a>"
      ]
    },
    {
      "cell_type": "code",
      "execution_count": 8,
      "metadata": {
        "id": "K4v1lfaO6-IX",
        "colab": {
          "base_uri": "https://localhost:8080/"
        },
        "outputId": "8a3c6e0e-e717-4522-c69f-0de4d65865b9"
      },
      "outputs": [
        {
          "output_type": "stream",
          "name": "stdout",
          "text": [
            "\n",
            " Label mapping:\n",
            "green --> 0\n",
            "red --> 1\n",
            "white --> 2\n",
            "yellow --> 3\n",
            "Ыасk --> 4\n",
            "Ьlack --> 5\n",
            "\n",
            "Labels = ['green', 'red', 'Ыасk']\n",
            "Encoded values = [0, 1, 4]\n",
            "\n",
            "Encoded values = [3, 0, 4, 1]\n",
            "Decoded labels = ['yellow', 'green', 'Ыасk', 'red']\n"
          ]
        }
      ],
      "source": [
        "# Лаб.№3-4 ШІ. Киян М. ІПЗ-407\n",
        "import numpy as np\n",
        "from sklearn import preprocessing\n",
        "\n",
        "# Надання позначок вхідних даних\n",
        "input_labels = ['red', 'Ыасk', 'red', 'green', 'Ьlack', 'yellow', 'white']\n",
        "\n",
        "# Створення кодувальника та встановлення відповідності між мітками та числами\n",
        "encoder = preprocessing.LabelEncoder()\n",
        "encoder.fit(input_labels)\n",
        "\n",
        "# Виведення відображення\n",
        "print(\"\\n Label mapping:\")\n",
        "for i, item in enumerate(encoder.classes_): print(item, '-->', i)\n",
        "\n",
        "# перетворення міток за допомогою кодувальника\n",
        "test_labels = ['green', 'red', 'Ыасk']\n",
        "encoded_values = encoder.transform(test_labels )\n",
        "print(\"\\nLabels =\", test_labels )\n",
        "print(\"Encoded values =\", list (encoded_values ) )\n",
        "\n",
        "# Декодування набору чисел за допомогою декодера\n",
        "encoded_values = [3, 0, 4, 1]\n",
        "decoded_list = encoder.inverse_transform(encoded_values)\n",
        "print(\"\\nEncoded values =\", encoded_values)\n",
        "print(\"Decoded labels =\", list (decoded_list ) )"
      ]
    }
  ]
}