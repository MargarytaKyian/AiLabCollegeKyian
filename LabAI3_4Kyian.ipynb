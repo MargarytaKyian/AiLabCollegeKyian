{
  "nbformat": 4,
  "nbformat_minor": 0,
  "metadata": {
    "colab": {
      "provenance": [],
      "authorship_tag": "ABX9TyNHsqQRW/s8huTfHylkTF3L",
      "include_colab_link": true
    },
    "kernelspec": {
      "name": "python3",
      "display_name": "Python 3"
    },
    "language_info": {
      "name": "python"
    }
  },
  "cells": [
    {
      "cell_type": "markdown",
      "metadata": {
        "id": "view-in-github",
        "colab_type": "text"
      },
      "source": [
        "<a href=\"https://colab.research.google.com/github/MargarytaKyian/AiLabCollegeKyian/blob/main/LabAI3_4Kyian.ipynb\" target=\"_parent\"><img src=\"https://colab.research.google.com/assets/colab-badge.svg\" alt=\"Open In Colab\"/></a>"
      ]
    },
    {
      "cell_type": "code",
      "source": [
        "# Лаб.№3-4 ШІ. Киян М. ІПЗ-407\n",
        "import numpy as np\n",
        "import pandas as pd\n",
        "from sklearn.model_selection import train_test_split\n",
        "from sklearn.svm import SVC\n",
        "from sklearn.naive_bayes import GaussianNB\n",
        "from sklearn.metrics import classification_report, accuracy_score, confusion_matrix\n",
        "\n",
        "# Завантаження даних з TXT файлу\n",
        "data = pd.read_csv('/content/data_multivar_nb.txt', sep=\",\", header=None)\n",
        "\n",
        "# Перевірка на наявність пропусків\n",
        "if data.isnull().values.any():\n",
        "    print(\"\\nЗнайдено пропуски в даних. Видалення рядків з пропусками...\")\n",
        "    data = data.dropna()\n",
        "\n",
        "# Визначаємо ознаки та мітки\n",
        "X = data.iloc[:, :-1]  # Всі стовпці, окрім останнього\n",
        "y = data.iloc[:, -1]    # Останній стовпець як мітка\n",
        "\n",
        "# Перевірка кількості прикладів у кожному класі\n",
        "class_counts = y.value_counts()\n",
        "print(\"Кількість прикладів у кожному класі:\", class_counts)\n",
        "\n",
        "# Видалення рідкісних класів з менше ніж 2 приклади\n",
        "if any(class_counts < 2):\n",
        "    print(\"\\nЗнайдено класи з менше ніж 2 приклади. Видалення таких класів...\")\n",
        "    classes_to_remove = class_counts[class_counts < 2].index\n",
        "    data = data[~data.iloc[:, -1].isin(classes_to_remove)]\n",
        "    X = data.iloc[:, :-1]\n",
        "    y = data.iloc[:, -1]\n",
        "\n",
        "# Розбиття на тренувальну і тестову вибірки\n",
        "X_train, X_test, y_train, y_test = train_test_split(X, y, test_size=0.3, random_state=42, stratify=y)\n",
        "\n",
        "# Навчання моделей\n",
        "# Машина опорних векторів\n",
        "svm_model = SVC(kernel='linear', random_state=42)\n",
        "svm_model.fit(X_train, y_train)\n",
        "y_pred_svm = svm_model.predict(X_test)\n",
        "\n",
        "# Наївний Байєсівський класифікатор\n",
        "nb_model = GaussianNB()\n",
        "nb_model.fit(X_train, y_train)\n",
        "y_pred_nb = nb_model.predict(X_test)\n",
        "\n",
        "# Оцінка якості моделей\n",
        "print(\"\\nРезультати для SVM:\")\n",
        "print(classification_report(y_test, y_pred_svm))\n",
        "print(\"Точність SVM:\", accuracy_score(y_test, y_pred_svm))\n",
        "print(\"Матриця плутанини SVM:\\n\", confusion_matrix(y_test, y_pred_svm))\n",
        "\n",
        "print(\"\\nРезультати для Наївного Байєса:\")\n",
        "print(classification_report(y_test, y_pred_nb))\n",
        "print(\"Точність Наївного Байєса:\", accuracy_score(y_test, y_pred_nb))\n",
        "print(\"Матриця плутанини Наївного Байєса:\\n\", confusion_matrix(y_test, y_pred_nb))\n",
        "\n",
        "# Висновки: Порівняння результатів\n",
        "print(\"\\nВисновок отриманого результату:\")\n",
        "if accuracy_score(y_test, y_pred_svm) > accuracy_score(y_test, y_pred_nb):\n",
        "    print(\"SVM має кращу точність у порівнянні з Наївним Байєсом.\")\n",
        "else:\n",
        "    print(\"Наївний Байєс має кращу точність у порівнянні з SVM.\")\n"
      ],
      "metadata": {
        "id": "K2w2SQL0ZLWP",
        "colab": {
          "base_uri": "https://localhost:8080/"
        },
        "outputId": "ca18af16-2bab-4701-9800-0475a48cd021"
      },
      "execution_count": 5,
      "outputs": [
        {
          "output_type": "stream",
          "name": "stdout",
          "text": [
            "Кількість прикладів у кожному класі: 2\n",
            "0    100\n",
            "1    100\n",
            "2    100\n",
            "3    100\n",
            "Name: count, dtype: int64\n",
            "\n",
            "Результати для SVM:\n",
            "              precision    recall  f1-score   support\n",
            "\n",
            "           0       1.00      1.00      1.00        30\n",
            "           1       1.00      1.00      1.00        30\n",
            "           2       1.00      0.97      0.98        30\n",
            "           3       0.97      1.00      0.98        30\n",
            "\n",
            "    accuracy                           0.99       120\n",
            "   macro avg       0.99      0.99      0.99       120\n",
            "weighted avg       0.99      0.99      0.99       120\n",
            "\n",
            "Точність SVM: 0.9916666666666667\n",
            "Матриця плутанини SVM:\n",
            " [[30  0  0  0]\n",
            " [ 0 30  0  0]\n",
            " [ 0  0 29  1]\n",
            " [ 0  0  0 30]]\n",
            "\n",
            "Результати для Наївного Байєса:\n",
            "              precision    recall  f1-score   support\n",
            "\n",
            "           0       1.00      1.00      1.00        30\n",
            "           1       1.00      1.00      1.00        30\n",
            "           2       1.00      0.97      0.98        30\n",
            "           3       0.97      1.00      0.98        30\n",
            "\n",
            "    accuracy                           0.99       120\n",
            "   macro avg       0.99      0.99      0.99       120\n",
            "weighted avg       0.99      0.99      0.99       120\n",
            "\n",
            "Точність Наївного Байєса: 0.9916666666666667\n",
            "Матриця плутанини Наївного Байєса:\n",
            " [[30  0  0  0]\n",
            " [ 0 30  0  0]\n",
            " [ 0  0 29  1]\n",
            " [ 0  0  0 30]]\n",
            "\n",
            "Висновок отриманого результату:\n",
            "Наївний Байєс має кращу точність у порівнянні з SVM.\n"
          ]
        }
      ]
    },
    {
      "cell_type": "code",
      "source": [],
      "metadata": {
        "id": "TDL2bR1LuC6a"
      },
      "execution_count": null,
      "outputs": []
    }
  ]
}